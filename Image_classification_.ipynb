{
  "nbformat": 4,
  "nbformat_minor": 0,
  "metadata": {
    "colab": {
      "name": "Image classification .ipynb",
      "provenance": [],
      "mount_file_id": "14rQE0E5nTEoEujMpHp_rs84ECtGj4yzu",
      "authorship_tag": "ABX9TyPSjbZst30Lw2WMVzlUcEzb",
      "include_colab_link": true
    },
    "kernelspec": {
      "name": "python3",
      "display_name": "Python 3"
    },
    "language_info": {
      "name": "python"
    }
  },
  "cells": [
    {
      "cell_type": "markdown",
      "metadata": {
        "id": "view-in-github",
        "colab_type": "text"
      },
      "source": [
        "<a href=\"https://colab.research.google.com/github/pratikshanikum16/image_classification-using-SVM/blob/main/Image_classification_.ipynb\" target=\"_parent\"><img src=\"https://colab.research.google.com/assets/colab-badge.svg\" alt=\"Open In Colab\"/></a>"
      ]
    },
    {
      "cell_type": "code",
      "metadata": {
        "id": "c813wLRLKlOY"
      },
      "source": [
        "!pip install bing-image-downloader\n",
        "!mkdir images"
      ],
      "execution_count": null,
      "outputs": []
    },
    {
      "cell_type": "code",
      "metadata": {
        "id": "9C82r6pUK47T"
      },
      "source": [
        "from bing_image_downloader import downloader\n",
        "downloader.download('cat',limit=30,output_dir='images',adult_filter_off=True)"
      ],
      "execution_count": null,
      "outputs": []
    },
    {
      "cell_type": "code",
      "metadata": {
        "id": "k9yNxjtvLoS5"
      },
      "source": [
        "from bing_image_downloader import downloader\n",
        "downloader.download('dog',limit=30,output_dir='images',adult_filter_off=True)"
      ],
      "execution_count": null,
      "outputs": []
    },
    {
      "cell_type": "code",
      "metadata": {
        "id": "kR6dfcp7L1So"
      },
      "source": [
        "from bing_image_downloader import downloader\n",
        "downloader.download('fish',limit=30,output_dir='images',adult_filter_off=True)"
      ],
      "execution_count": null,
      "outputs": []
    },
    {
      "cell_type": "code",
      "metadata": {
        "id": "L_cCTTgAZiip"
      },
      "source": [
        "import os\n",
        "import numpy as np\n",
        "import matplotlib.pyplot as plt\n",
        "import pandas as pd\n",
        "from skimage.io import imread\n",
        "from skimage.transform import resize\n",
        "target=[]\n",
        "images=[]\n",
        "flat_data=[]\n",
        "\n",
        "dir ='/content/images'"
      ],
      "execution_count": null,
      "outputs": []
    },
    {
      "cell_type": "code",
      "metadata": {
        "id": "XmdLPywogPkA"
      },
      "source": [
        "categories =['cat','dog','fish']\n"
      ],
      "execution_count": null,
      "outputs": []
    },
    {
      "cell_type": "code",
      "metadata": {
        "colab": {
          "base_uri": "https://localhost:8080/"
        },
        "id": "_AqnxbsOgJAH",
        "outputId": "734254a7-b81e-4079-f272-f201a05dce8a"
      },
      "source": [
        "for category in categories:\n",
        "   label=categories.index(category)\n",
        "   path = os.path.join(dir,category)\n",
        "   for img in os.listdir(path):\n",
        "        img_array=imread(os.path.join(path,img))\n",
        "        img_resized=resize(img_array,(150,150,3))\n",
        "        flat_data.append(img_resized.flatten())\n",
        "        images.append(img_resized)\n",
        "        target.append(label)\n",
        "flat_data=np.array(flat_data)\n",
        "target=np.array(target)\n",
        "images=np.array(images)\n",
        "flat_data[0]"
      ],
      "execution_count": null,
      "outputs": [
        {
          "output_type": "execute_result",
          "data": {
            "text/plain": [
              "array([0.15686275, 0.15294118, 0.09411765, ..., 0.18813072, 0.18473203,\n",
              "       0.12601307])"
            ]
          },
          "metadata": {
            "tags": []
          },
          "execution_count": 61
        }
      ]
    },
    {
      "cell_type": "code",
      "metadata": {
        "colab": {
          "base_uri": "https://localhost:8080/"
        },
        "id": "eNiiQXlQWoYO",
        "outputId": "001e996b-1b02-49a1-b056-0d8b866804d6"
      },
      "source": [
        "np.unique(target,return_counts=True)"
      ],
      "execution_count": null,
      "outputs": [
        {
          "output_type": "execute_result",
          "data": {
            "text/plain": [
              "(array([0, 1, 2]), array([31, 34, 43]))"
            ]
          },
          "metadata": {
            "tags": []
          },
          "execution_count": 62
        }
      ]
    },
    {
      "cell_type": "code",
      "metadata": {
        "id": "1cx1BhpbnbPi"
      },
      "source": [
        "from sklearn.model_selection import train_test_split\n",
        "x_train,x_test,y_train, y_test= train_test_split(flat_data,target,test_size=0.2,random_state=109)"
      ],
      "execution_count": null,
      "outputs": []
    },
    {
      "cell_type": "code",
      "metadata": {
        "colab": {
          "base_uri": "https://localhost:8080/"
        },
        "id": "k4QptCXiYWYE",
        "outputId": "72a388c6-6ed5-4f3c-bae3-412faff702d4"
      },
      "source": [
        "from sklearn.model_selection import GridSearchCV\n",
        "from sklearn import svm\n",
        "param_grid= [\n",
        "             {'C':[1,10,100,1000],'kernel':['linear']},                 \n",
        "              {'C':[1,10,100,1000],'gamma':[0.001,0.0001],'kernel':['rbf']}, \n",
        "]\n",
        "\n",
        "svc=svm.SVC(probability=True)\n",
        "clf =GridSearchCV(svc,param_grid)\n",
        "clf.fit(x_train,y_train)"
      ],
      "execution_count": null,
      "outputs": [
        {
          "output_type": "execute_result",
          "data": {
            "text/plain": [
              "GridSearchCV(cv=None, error_score=nan,\n",
              "             estimator=SVC(C=1.0, break_ties=False, cache_size=200,\n",
              "                           class_weight=None, coef0=0.0,\n",
              "                           decision_function_shape='ovr', degree=3,\n",
              "                           gamma='scale', kernel='rbf', max_iter=-1,\n",
              "                           probability=True, random_state=None, shrinking=True,\n",
              "                           tol=0.001, verbose=False),\n",
              "             iid='deprecated', n_jobs=None,\n",
              "             param_grid=[{'C': [1, 10, 100, 1000], 'kernel': ['linear']},\n",
              "                         {'C': [1, 10, 100, 1000], 'gamma': [0.001, 0.0001],\n",
              "                          'kernel': ['rbf']}],\n",
              "             pre_dispatch='2*n_jobs', refit=True, return_train_score=False,\n",
              "             scoring=None, verbose=0)"
            ]
          },
          "metadata": {
            "tags": []
          },
          "execution_count": 64
        }
      ]
    },
    {
      "cell_type": "code",
      "metadata": {
        "colab": {
          "base_uri": "https://localhost:8080/"
        },
        "id": "MIazOrPGbcWK",
        "outputId": "918eba9b-8af1-495c-c591-51fef105f79f"
      },
      "source": [
        "y_pred =clf.predict(x_test)\n",
        "y_pred"
      ],
      "execution_count": null,
      "outputs": [
        {
          "output_type": "execute_result",
          "data": {
            "text/plain": [
              "array([2, 0, 2, 2, 0, 2, 2, 1, 2, 2, 2, 0, 1, 0, 2, 2, 2, 1, 0, 1, 1, 1])"
            ]
          },
          "metadata": {
            "tags": []
          },
          "execution_count": 65
        }
      ]
    },
    {
      "cell_type": "code",
      "metadata": {
        "colab": {
          "base_uri": "https://localhost:8080/"
        },
        "id": "1YzON-fHfaP7",
        "outputId": "88608706-af27-4f71-de22-0da5556765f0"
      },
      "source": [
        "y_test"
      ],
      "execution_count": null,
      "outputs": [
        {
          "output_type": "execute_result",
          "data": {
            "text/plain": [
              "array([2, 0, 2, 1, 0, 2, 2, 1, 2, 2, 2, 0, 1, 0, 2, 2, 2, 1, 0, 1, 1, 1])"
            ]
          },
          "metadata": {
            "tags": []
          },
          "execution_count": 68
        }
      ]
    },
    {
      "cell_type": "code",
      "metadata": {
        "id": "CdvIKLJBq9Ej",
        "colab": {
          "base_uri": "https://localhost:8080/"
        },
        "outputId": "0b329034-0cbe-4032-8d5c-dea8a0df368f"
      },
      "source": [
        "from sklearn.metrics import accuracy_score\n",
        "from sklearn.metrics import confusion_matrix\n",
        "from sklearn.metrics import classification_report\n",
        "accuracy_score(y_pred,y_test)\n",
        "c_m=confusion_matrix(y_pred,y_test)\n",
        "c_m"
      ],
      "execution_count": null,
      "outputs": [
        {
          "output_type": "stream",
          "text": [
            "<function classification_report at 0x7ff19f042b00>\n"
          ],
          "name": "stdout"
        }
      ]
    },
    {
      "cell_type": "code",
      "metadata": {
        "colab": {
          "base_uri": "https://localhost:8080/"
        },
        "id": "whiYVbmnfpO3",
        "outputId": "ea6613ca-6322-41e9-fd90-9efcd6f419f7"
      },
      "source": [
        "accuracy_score(y_pred,y_test)"
      ],
      "execution_count": null,
      "outputs": [
        {
          "output_type": "execute_result",
          "data": {
            "text/plain": [
              "0.9545454545454546"
            ]
          },
          "metadata": {
            "tags": []
          },
          "execution_count": 70
        }
      ]
    },
    {
      "cell_type": "code",
      "metadata": {
        "colab": {
          "base_uri": "https://localhost:8080/"
        },
        "id": "qjbV7lDPf4xE",
        "outputId": "79ca30a5-c03e-4f27-cc66-6298860da895"
      },
      "source": [
        "c_m"
      ],
      "execution_count": null,
      "outputs": [
        {
          "output_type": "execute_result",
          "data": {
            "text/plain": [
              "array([[ 5,  0,  0],\n",
              "       [ 0,  6,  0],\n",
              "       [ 0,  1, 10]])"
            ]
          },
          "metadata": {
            "tags": []
          },
          "execution_count": 73
        }
      ]
    },
    {
      "cell_type": "code",
      "metadata": {
        "id": "-owKZDfugVfc"
      },
      "source": [
        "#testing\n",
        "flat_data=[]\n",
        "url=input('enter your URL')\n",
        "img =imread(url)\n",
        "flat_data.append(img_resized.flatten())\n",
        "flat_data =np.array(flat_data)\n",
        "print(img.shape)\n",
        "plt.imshow(img_resized)\n",
        "y_out = model.predict(flat_data)\n",
        "y_out =categories[y_out[0]]\n",
        "print(f'PREDICTED OUTPUT: {y_out}')"
      ],
      "execution_count": null,
      "outputs": []
    }
  ]
}